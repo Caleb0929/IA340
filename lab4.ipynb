{
 "cells": [
  {
   "cell_type": "markdown",
   "id": "8998a13f",
   "metadata": {},
   "source": [
    "# import lib"
   ]
  },
  {
   "cell_type": "code",
   "execution_count": 1,
   "id": "8a74b4c9",
   "metadata": {},
   "outputs": [
    {
     "name": "stderr",
     "output_type": "stream",
     "text": [
      "/home/ec2-user/anaconda3/envs/python3/lib/python3.6/site-packages/psycopg2/__init__.py:144: UserWarning: The psycopg2 wheel package will be renamed from release 2.8; in order to keep installing from binary please use \"pip install psycopg2-binary\" instead. For details see: <http://initd.org/psycopg/docs/install.html#binary-install-from-pypi>.\n",
      "  \"\"\")\n"
     ]
    }
   ],
   "source": [
    "import pandas\n",
    "import psycopg2\n",
    "import configparser"
   ]
  },
  {
   "cell_type": "markdown",
   "id": "5bfe2576",
   "metadata": {},
   "source": [
    "# connect to db"
   ]
  },
  {
   "cell_type": "code",
   "execution_count": 2,
   "id": "15182446",
   "metadata": {},
   "outputs": [],
   "source": [
    "config = configparser.ConfigParser()\n",
    "config.read('config.ini')\n",
    "\n",
    "host=config['myaws']['host']\n",
    "db=config['myaws']['db']\n",
    "user=config['myaws']['user']\n",
    "pwd = config['myaws']['pwd']\n",
    "\n",
    "conn = psycopg2.connect(  host=host,\n",
    "                       user=user,\n",
    "                       password = pwd,\n",
    "                       dbname=db)"
   ]
  },
  {
   "cell_type": "code",
   "execution_count": 3,
   "id": "f7d22f60",
   "metadata": {},
   "outputs": [],
   "source": [
    "cur=conn.cursor()"
   ]
  },
  {
   "cell_type": "markdown",
   "id": "624b7f4a",
   "metadata": {},
   "source": [
    "# q1"
   ]
  },
  {
   "cell_type": "code",
   "execution_count": 4,
   "id": "9f908401",
   "metadata": {},
   "outputs": [
    {
     "data": {
      "text/html": [
       "<div>\n",
       "<style scoped>\n",
       "    .dataframe tbody tr th:only-of-type {\n",
       "        vertical-align: middle;\n",
       "    }\n",
       "\n",
       "    .dataframe tbody tr th {\n",
       "        vertical-align: top;\n",
       "    }\n",
       "\n",
       "    .dataframe thead th {\n",
       "        text-align: right;\n",
       "    }\n",
       "</style>\n",
       "<table border=\"1\" class=\"dataframe\">\n",
       "  <thead>\n",
       "    <tr style=\"text-align: right;\">\n",
       "      <th></th>\n",
       "      <th>s_email</th>\n",
       "      <th>s_name</th>\n",
       "      <th>major</th>\n",
       "    </tr>\n",
       "  </thead>\n",
       "  <tbody>\n",
       "    <tr>\n",
       "      <th>0</th>\n",
       "      <td>doe@dukes.jmu.edu</td>\n",
       "      <td>John Doe</td>\n",
       "      <td>Intelligence Analysis</td>\n",
       "    </tr>\n",
       "    <tr>\n",
       "      <th>1</th>\n",
       "      <td>smith@dukes.jmu.edu</td>\n",
       "      <td>James Smith</td>\n",
       "      <td>Intelligence Analysis</td>\n",
       "    </tr>\n",
       "    <tr>\n",
       "      <th>2</th>\n",
       "      <td>hacketcb@dukes.jmu.edu</td>\n",
       "      <td>Caleb Hackett</td>\n",
       "      <td>Intelligence Analysis</td>\n",
       "    </tr>\n",
       "    <tr>\n",
       "      <th>3</th>\n",
       "      <td>rober6tl@dukes.jmu.edu</td>\n",
       "      <td>Thea Robertson</td>\n",
       "      <td>Intelligence Analysis</td>\n",
       "    </tr>\n",
       "  </tbody>\n",
       "</table>\n",
       "</div>"
      ],
      "text/plain": [
       "                  s_email          s_name                  major\n",
       "0       doe@dukes.jmu.edu        John Doe  Intelligence Analysis\n",
       "1     smith@dukes.jmu.edu     James Smith  Intelligence Analysis\n",
       "2  hacketcb@dukes.jmu.edu   Caleb Hackett  Intelligence Analysis\n",
       "3  rober6tl@dukes.jmu.edu  Thea Robertson  Intelligence Analysis"
      ]
     },
     "execution_count": 4,
     "metadata": {},
     "output_type": "execute_result"
    }
   ],
   "source": [
    "df_student=pandas.read_sql_query('select * from gp16.student',conn)\n",
    "df_student[:]"
   ]
  },
  {
   "cell_type": "markdown",
   "id": "82416564",
   "metadata": {},
   "source": [
    "# q2"
   ]
  },
  {
   "cell_type": "code",
   "execution_count": 5,
   "id": "a46e4506",
   "metadata": {},
   "outputs": [],
   "source": [
    "sql_statement2 = \"\"\" select gp16.professor.p_name,\n",
    "                    gp16.course.c_name\n",
    "                    from gp16.professor\n",
    "                    inner join gp16.course\n",
    "                    on gp16.professor.p_email = gp16.course.p_email\"\"\""
   ]
  },
  {
   "cell_type": "code",
   "execution_count": 6,
   "id": "917ffa48",
   "metadata": {},
   "outputs": [
    {
     "data": {
      "text/html": [
       "<div>\n",
       "<style scoped>\n",
       "    .dataframe tbody tr th:only-of-type {\n",
       "        vertical-align: middle;\n",
       "    }\n",
       "\n",
       "    .dataframe tbody tr th {\n",
       "        vertical-align: top;\n",
       "    }\n",
       "\n",
       "    .dataframe thead th {\n",
       "        text-align: right;\n",
       "    }\n",
       "</style>\n",
       "<table border=\"1\" class=\"dataframe\">\n",
       "  <thead>\n",
       "    <tr style=\"text-align: right;\">\n",
       "      <th></th>\n",
       "      <th>p_name</th>\n",
       "      <th>c_name</th>\n",
       "    </tr>\n",
       "  </thead>\n",
       "  <tbody>\n",
       "    <tr>\n",
       "      <th>0</th>\n",
       "      <td>Noel Hendrickson</td>\n",
       "      <td>Counterfactual Reasoning</td>\n",
       "    </tr>\n",
       "    <tr>\n",
       "      <th>1</th>\n",
       "      <td>Stephen Marrin</td>\n",
       "      <td>Seminar on Isuues In Intelligence Analysis</td>\n",
       "    </tr>\n",
       "    <tr>\n",
       "      <th>2</th>\n",
       "      <td>Orlandrew Danzell</td>\n",
       "      <td>Money Laundering</td>\n",
       "    </tr>\n",
       "    <tr>\n",
       "      <th>3</th>\n",
       "      <td>new_p</td>\n",
       "      <td>Human Development</td>\n",
       "    </tr>\n",
       "    <tr>\n",
       "      <th>4</th>\n",
       "      <td>new_p</td>\n",
       "      <td>Data Mining</td>\n",
       "    </tr>\n",
       "    <tr>\n",
       "      <th>5</th>\n",
       "      <td>new_p</td>\n",
       "      <td>new_c_name</td>\n",
       "    </tr>\n",
       "  </tbody>\n",
       "</table>\n",
       "</div>"
      ],
      "text/plain": [
       "              p_name                                      c_name\n",
       "0   Noel Hendrickson                    Counterfactual Reasoning\n",
       "1     Stephen Marrin  Seminar on Isuues In Intelligence Analysis\n",
       "2  Orlandrew Danzell                            Money Laundering\n",
       "3              new_p                           Human Development\n",
       "4              new_p                                 Data Mining\n",
       "5              new_p                                  new_c_name"
      ]
     },
     "execution_count": 6,
     "metadata": {},
     "output_type": "execute_result"
    }
   ],
   "source": [
    "df_student=pandas.read_sql_query(sql_statement2,conn)\n",
    "df_student[:]"
   ]
  },
  {
   "cell_type": "markdown",
   "id": "043a3d57",
   "metadata": {},
   "source": [
    "# q3"
   ]
  },
  {
   "cell_type": "code",
   "execution_count": 7,
   "id": "afd1dce8",
   "metadata": {},
   "outputs": [],
   "source": [
    "sql_statement3 = \"\"\" select c_number,\n",
    "                    count (c_number) as enrolled\n",
    "                    from gp16.enroll_list\n",
    "                   group by c_number\n",
    "                   \"\"\""
   ]
  },
  {
   "cell_type": "code",
   "execution_count": 8,
   "id": "923d76a4",
   "metadata": {},
   "outputs": [
    {
     "data": {
      "text/plain": [
       "<AxesSubplot:xlabel='c_number'>"
      ]
     },
     "execution_count": 8,
     "metadata": {},
     "output_type": "execute_result"
    },
    {
     "data": {
      "image/png": "[encoded data removed]",
      "text/plain": [
       "<Figure size 432x288 with 1 Axes>"
      ]
     },
     "metadata": {
      "needs_background": "light"
     },
     "output_type": "display_data"
    }
   ],
   "source": [
    "df_price=pandas.read_sql_query(sql_statement3,conn)\n",
    "\n",
    "df_price.plot.bar(x='c_number',y='enrolled')"
   ]
  },
  {
   "cell_type": "markdown",
   "id": "b962c18d",
   "metadata": {},
   "source": [
    "# q4"
   ]
  },
  {
   "cell_type": "code",
   "execution_count": 9,
   "id": "b18de57f",
   "metadata": {},
   "outputs": [],
   "source": [
    "sql_statement4 = \"\"\" select gp16.professor.p_name,\n",
    "                   count(gp16.course.c_name) as teaching_number\n",
    "                    from gp16.professor\n",
    "                    inner join gp16.course\n",
    "                    on gp16.professor.p_email = gp16.course.p_email\n",
    "                    group by professor.p_name\n",
    "                   \"\"\""
   ]
  },
  {
   "cell_type": "code",
   "execution_count": 10,
   "id": "4a9a20a5",
   "metadata": {},
   "outputs": [
    {
     "data": {
      "text/plain": [
       "<AxesSubplot:xlabel='p_name'>"
      ]
     },
     "execution_count": 10,
     "metadata": {},
     "output_type": "execute_result"
    },
    {
     "data": {
      "image/png": "[encoded data removed]",
      "text/plain": [
       "<Figure size 432x288 with 1 Axes>"
      ]
     },
     "metadata": {
      "needs_background": "light"
     },
     "output_type": "display_data"
    }
   ],
   "source": [
    "df_price=pandas.read_sql_query(sql_statement4,conn)\n",
    "\n",
    "df_price.plot.bar(x='p_name',y='teaching_number')"
   ]
  },
  {
   "cell_type": "markdown",
   "id": "cbcbd138",
   "metadata": {},
   "source": [
    "# q5"
   ]
  },
  {
   "cell_type": "code",
   "execution_count": 22,
   "id": "a624669d",
   "metadata": {},
   "outputs": [
    {
     "name": "stdout",
     "output_type": "stream",
     "text": [
      " insert into gp16.professor(p_email, p_name, p_office)\n",
      "                    values ('new_pro@jmu.edu', 'new_pro', 'new_off')\n",
      "                   \n"
     ]
    }
   ],
   "source": [
    "sql_statement5 = \"\"\" insert into gp16.professor(p_email, p_name, p_office)\n",
    "                    values ('{}', '{}', '{}')\n",
    "                   \"\"\".format('new_pro@jmu.edu', 'new_pro', 'new_off')\n",
    "print (sql_statement5)"
   ]
  },
  {
   "cell_type": "code",
   "execution_count": 23,
   "id": "9b4812a3",
   "metadata": {},
   "outputs": [],
   "source": [
    "cur.execute(sql_statement5)"
   ]
  },
  {
   "cell_type": "code",
   "execution_count": 24,
   "id": "16255c66",
   "metadata": {},
   "outputs": [
    {
     "data": {
      "text/html": [
       "<div>\n",
       "<style scoped>\n",
       "    .dataframe tbody tr th:only-of-type {\n",
       "        vertical-align: middle;\n",
       "    }\n",
       "\n",
       "    .dataframe tbody tr th {\n",
       "        vertical-align: top;\n",
       "    }\n",
       "\n",
       "    .dataframe thead th {\n",
       "        text-align: right;\n",
       "    }\n",
       "</style>\n",
       "<table border=\"1\" class=\"dataframe\">\n",
       "  <thead>\n",
       "    <tr style=\"text-align: right;\">\n",
       "      <th></th>\n",
       "      <th>p_email</th>\n",
       "      <th>p_name</th>\n",
       "      <th>p_office</th>\n",
       "    </tr>\n",
       "  </thead>\n",
       "  <tbody>\n",
       "    <tr>\n",
       "      <th>0</th>\n",
       "      <td>hendrinx@jmu.edu</td>\n",
       "      <td>Noel Hendrickson</td>\n",
       "      <td>ISAT 317</td>\n",
       "    </tr>\n",
       "    <tr>\n",
       "      <th>1</th>\n",
       "      <td>danzelox@jmu.edu</td>\n",
       "      <td>Orlandrew Danzell</td>\n",
       "      <td>ISAT 107</td>\n",
       "    </tr>\n",
       "    <tr>\n",
       "      <th>2</th>\n",
       "      <td>marrinsp@jmu.edu</td>\n",
       "      <td>Stephen Marrin</td>\n",
       "      <td>ENGEO2104</td>\n",
       "    </tr>\n",
       "    <tr>\n",
       "      <th>3</th>\n",
       "      <td>new_p@jmu.edu</td>\n",
       "      <td>new_p</td>\n",
       "      <td>new_office</td>\n",
       "    </tr>\n",
       "    <tr>\n",
       "      <th>4</th>\n",
       "      <td>new_pro@jmu.edu</td>\n",
       "      <td>new_pro</td>\n",
       "      <td>new_off</td>\n",
       "    </tr>\n",
       "  </tbody>\n",
       "</table>\n",
       "</div>"
      ],
      "text/plain": [
       "            p_email             p_name    p_office\n",
       "0  hendrinx@jmu.edu   Noel Hendrickson    ISAT 317\n",
       "1  danzelox@jmu.edu  Orlandrew Danzell    ISAT 107\n",
       "2  marrinsp@jmu.edu     Stephen Marrin   ENGEO2104\n",
       "3     new_p@jmu.edu              new_p  new_office\n",
       "4   new_pro@jmu.edu            new_pro     new_off"
      ]
     },
     "execution_count": 24,
     "metadata": {},
     "output_type": "execute_result"
    }
   ],
   "source": [
    "df=pandas.read_sql_query(\"select * from gp16.professor\",conn)\n",
    "\n",
    "df[:]"
   ]
  },
  {
   "cell_type": "code",
   "execution_count": 32,
   "id": "0b22b7ec",
   "metadata": {},
   "outputs": [
    {
     "name": "stdout",
     "output_type": "stream",
     "text": [
      " insert into gp16.course (c_number, c_name, c_room, p_email)\n",
      "                    values ('new_ia', 'new_course', 'ISAT321', 'new_pro@jmu.edu')\n",
      "                   \n"
     ]
    }
   ],
   "source": [
    "sql_statement6 = \"\"\" insert into gp16.course (c_number, c_name, c_room, p_email)\n",
    "                    values ('{}', '{}', '{}', '{}')\n",
    "                   \"\"\".format('new_ia', 'new_course', 'ISAT321', 'new_pro@jmu.edu')\n",
    "print (sql_statement6)"
   ]
  },
  {
   "cell_type": "code",
   "execution_count": 33,
   "id": "5d17c11b",
   "metadata": {},
   "outputs": [],
   "source": [
    "cur.execute(sql_statement5)"
   ]
  },
  {
   "cell_type": "code",
   "execution_count": 31,
   "id": "92af3aa7",
   "metadata": {},
   "outputs": [],
   "source": [
    "conn.rollback()"
   ]
  },
  {
   "cell_type": "code",
   "execution_count": 34,
   "id": "a7d80480",
   "metadata": {},
   "outputs": [],
   "source": [
    "conn.commit()"
   ]
  },
  {
   "cell_type": "code",
   "execution_count": 35,
   "id": "37bef6aa",
   "metadata": {},
   "outputs": [
    {
     "data": {
      "text/html": [
       "<div>\n",
       "<style scoped>\n",
       "    .dataframe tbody tr th:only-of-type {\n",
       "        vertical-align: middle;\n",
       "    }\n",
       "\n",
       "    .dataframe tbody tr th {\n",
       "        vertical-align: top;\n",
       "    }\n",
       "\n",
       "    .dataframe thead th {\n",
       "        text-align: right;\n",
       "    }\n",
       "</style>\n",
       "<table border=\"1\" class=\"dataframe\">\n",
       "  <thead>\n",
       "    <tr style=\"text-align: right;\">\n",
       "      <th></th>\n",
       "      <th>p_email</th>\n",
       "      <th>p_name</th>\n",
       "      <th>p_office</th>\n",
       "    </tr>\n",
       "  </thead>\n",
       "  <tbody>\n",
       "    <tr>\n",
       "      <th>0</th>\n",
       "      <td>hendrinx@jmu.edu</td>\n",
       "      <td>Noel Hendrickson</td>\n",
       "      <td>ISAT 317</td>\n",
       "    </tr>\n",
       "    <tr>\n",
       "      <th>1</th>\n",
       "      <td>danzelox@jmu.edu</td>\n",
       "      <td>Orlandrew Danzell</td>\n",
       "      <td>ISAT 107</td>\n",
       "    </tr>\n",
       "    <tr>\n",
       "      <th>2</th>\n",
       "      <td>marrinsp@jmu.edu</td>\n",
       "      <td>Stephen Marrin</td>\n",
       "      <td>ENGEO2104</td>\n",
       "    </tr>\n",
       "    <tr>\n",
       "      <th>3</th>\n",
       "      <td>new_p@jmu.edu</td>\n",
       "      <td>new_p</td>\n",
       "      <td>new_office</td>\n",
       "    </tr>\n",
       "    <tr>\n",
       "      <th>4</th>\n",
       "      <td>new_pro@jmu.edu</td>\n",
       "      <td>new_pro</td>\n",
       "      <td>new_off</td>\n",
       "    </tr>\n",
       "  </tbody>\n",
       "</table>\n",
       "</div>"
      ],
      "text/plain": [
       "            p_email             p_name    p_office\n",
       "0  hendrinx@jmu.edu   Noel Hendrickson    ISAT 317\n",
       "1  danzelox@jmu.edu  Orlandrew Danzell    ISAT 107\n",
       "2  marrinsp@jmu.edu     Stephen Marrin   ENGEO2104\n",
       "3     new_p@jmu.edu              new_p  new_office\n",
       "4   new_pro@jmu.edu            new_pro     new_off"
      ]
     },
     "execution_count": 35,
     "metadata": {},
     "output_type": "execute_result"
    }
   ],
   "source": [
    "df=pandas.read_sql_query(\"select * from gp16.professor\",conn)\n",
    "\n",
    "df[:]"
   ]
  },
  {
   "cell_type": "code",
   "execution_count": 36,
   "id": "4066b3d0",
   "metadata": {},
   "outputs": [
    {
     "data": {
      "text/html": [
       "<div>\n",
       "<style scoped>\n",
       "    .dataframe tbody tr th:only-of-type {\n",
       "        vertical-align: middle;\n",
       "    }\n",
       "\n",
       "    .dataframe tbody tr th {\n",
       "        vertical-align: top;\n",
       "    }\n",
       "\n",
       "    .dataframe thead th {\n",
       "        text-align: right;\n",
       "    }\n",
       "</style>\n",
       "<table border=\"1\" class=\"dataframe\">\n",
       "  <thead>\n",
       "    <tr style=\"text-align: right;\">\n",
       "      <th></th>\n",
       "      <th>c_number</th>\n",
       "      <th>c_name</th>\n",
       "      <th>c_room</th>\n",
       "      <th>p_email</th>\n",
       "    </tr>\n",
       "  </thead>\n",
       "  <tbody>\n",
       "    <tr>\n",
       "      <th>0</th>\n",
       "      <td>IA 313</td>\n",
       "      <td>Counterfactual Reasoning</td>\n",
       "      <td>ENGEO1204</td>\n",
       "      <td>hendrinx@jmu.edu</td>\n",
       "    </tr>\n",
       "    <tr>\n",
       "      <th>1</th>\n",
       "      <td>IA 300</td>\n",
       "      <td>Seminar on Isuues In Intelligence Analysis</td>\n",
       "      <td>ISAT 150</td>\n",
       "      <td>marrinsp@jmu.edu</td>\n",
       "    </tr>\n",
       "    <tr>\n",
       "      <th>2</th>\n",
       "      <td>IA 480</td>\n",
       "      <td>Money Laundering</td>\n",
       "      <td>ISAT0148</td>\n",
       "      <td>danzelox@jmu.edu</td>\n",
       "    </tr>\n",
       "    <tr>\n",
       "      <th>3</th>\n",
       "      <td>PSYCH160</td>\n",
       "      <td>Human Development</td>\n",
       "      <td>ISAT312</td>\n",
       "      <td>new_p@jmu.edu</td>\n",
       "    </tr>\n",
       "    <tr>\n",
       "      <th>4</th>\n",
       "      <td>IA 340</td>\n",
       "      <td>Data Mining</td>\n",
       "      <td>ENGEO210</td>\n",
       "      <td>new_p@jmu.edu</td>\n",
       "    </tr>\n",
       "    <tr>\n",
       "      <th>5</th>\n",
       "      <td>ia_new</td>\n",
       "      <td>new_c_name</td>\n",
       "      <td>ISAT123</td>\n",
       "      <td>new_p@jmu.edu</td>\n",
       "    </tr>\n",
       "  </tbody>\n",
       "</table>\n",
       "</div>"
      ],
      "text/plain": [
       "   c_number                                      c_name     c_room  \\\n",
       "0    IA 313                    Counterfactual Reasoning  ENGEO1204   \n",
       "1    IA 300  Seminar on Isuues In Intelligence Analysis   ISAT 150   \n",
       "2    IA 480                            Money Laundering   ISAT0148   \n",
       "3  PSYCH160                           Human Development    ISAT312   \n",
       "4    IA 340                                 Data Mining   ENGEO210   \n",
       "5    ia_new                                  new_c_name    ISAT123   \n",
       "\n",
       "            p_email  \n",
       "0  hendrinx@jmu.edu  \n",
       "1  marrinsp@jmu.edu  \n",
       "2  danzelox@jmu.edu  \n",
       "3     new_p@jmu.edu  \n",
       "4     new_p@jmu.edu  \n",
       "5     new_p@jmu.edu  "
      ]
     },
     "execution_count": 36,
     "metadata": {},
     "output_type": "execute_result"
    }
   ],
   "source": [
    "df=pandas.read_sql_query(\"select * from gp16.course\",conn)\n",
    "\n",
    "df[:]"
   ]
  },
  {
   "cell_type": "markdown",
   "id": "521c1100",
   "metadata": {},
   "source": [
    "# q6"
   ]
  },
  {
   "cell_type": "code",
   "execution_count": 37,
   "id": "8d4da18b",
   "metadata": {},
   "outputs": [
    {
     "name": "stdout",
     "output_type": "stream",
     "text": [
      " update gp16.course\n",
      "                    set p_email = 'new_pro@jmu.edu'\n",
      "                    where p_email = 'new_p@jmu.edu'\n",
      "                  \n"
     ]
    }
   ],
   "source": [
    "sql_statement7 = \"\"\" update gp16.course\n",
    "                    set p_email = 'new_pro@jmu.edu'\n",
    "                    where p_email = 'new_p@jmu.edu'\n",
    "                  \"\"\"\n",
    "print (sql_statement7)"
   ]
  },
  {
   "cell_type": "code",
   "execution_count": 38,
   "id": "a00d589a",
   "metadata": {},
   "outputs": [],
   "source": [
    "cur.execute(sql_statement7)"
   ]
  },
  {
   "cell_type": "code",
   "execution_count": 39,
   "id": "426e63d4",
   "metadata": {},
   "outputs": [],
   "source": [
    "conn.commit()"
   ]
  },
  {
   "cell_type": "code",
   "execution_count": 40,
   "id": "561d0272",
   "metadata": {},
   "outputs": [
    {
     "data": {
      "text/html": [
       "<div>\n",
       "<style scoped>\n",
       "    .dataframe tbody tr th:only-of-type {\n",
       "        vertical-align: middle;\n",
       "    }\n",
       "\n",
       "    .dataframe tbody tr th {\n",
       "        vertical-align: top;\n",
       "    }\n",
       "\n",
       "    .dataframe thead th {\n",
       "        text-align: right;\n",
       "    }\n",
       "</style>\n",
       "<table border=\"1\" class=\"dataframe\">\n",
       "  <thead>\n",
       "    <tr style=\"text-align: right;\">\n",
       "      <th></th>\n",
       "      <th>c_number</th>\n",
       "      <th>c_name</th>\n",
       "      <th>c_room</th>\n",
       "      <th>p_email</th>\n",
       "    </tr>\n",
       "  </thead>\n",
       "  <tbody>\n",
       "    <tr>\n",
       "      <th>0</th>\n",
       "      <td>IA 313</td>\n",
       "      <td>Counterfactual Reasoning</td>\n",
       "      <td>ENGEO1204</td>\n",
       "      <td>hendrinx@jmu.edu</td>\n",
       "    </tr>\n",
       "    <tr>\n",
       "      <th>1</th>\n",
       "      <td>IA 300</td>\n",
       "      <td>Seminar on Isuues In Intelligence Analysis</td>\n",
       "      <td>ISAT 150</td>\n",
       "      <td>marrinsp@jmu.edu</td>\n",
       "    </tr>\n",
       "    <tr>\n",
       "      <th>2</th>\n",
       "      <td>IA 480</td>\n",
       "      <td>Money Laundering</td>\n",
       "      <td>ISAT0148</td>\n",
       "      <td>danzelox@jmu.edu</td>\n",
       "    </tr>\n",
       "    <tr>\n",
       "      <th>3</th>\n",
       "      <td>PSYCH160</td>\n",
       "      <td>Human Development</td>\n",
       "      <td>ISAT312</td>\n",
       "      <td>new_pro@jmu.edu</td>\n",
       "    </tr>\n",
       "    <tr>\n",
       "      <th>4</th>\n",
       "      <td>IA 340</td>\n",
       "      <td>Data Mining</td>\n",
       "      <td>ENGEO210</td>\n",
       "      <td>new_pro@jmu.edu</td>\n",
       "    </tr>\n",
       "    <tr>\n",
       "      <th>5</th>\n",
       "      <td>ia_new</td>\n",
       "      <td>new_c_name</td>\n",
       "      <td>ISAT123</td>\n",
       "      <td>new_pro@jmu.edu</td>\n",
       "    </tr>\n",
       "  </tbody>\n",
       "</table>\n",
       "</div>"
      ],
      "text/plain": [
       "   c_number                                      c_name     c_room  \\\n",
       "0    IA 313                    Counterfactual Reasoning  ENGEO1204   \n",
       "1    IA 300  Seminar on Isuues In Intelligence Analysis   ISAT 150   \n",
       "2    IA 480                            Money Laundering   ISAT0148   \n",
       "3  PSYCH160                           Human Development    ISAT312   \n",
       "4    IA 340                                 Data Mining   ENGEO210   \n",
       "5    ia_new                                  new_c_name    ISAT123   \n",
       "\n",
       "            p_email  \n",
       "0  hendrinx@jmu.edu  \n",
       "1  marrinsp@jmu.edu  \n",
       "2  danzelox@jmu.edu  \n",
       "3   new_pro@jmu.edu  \n",
       "4   new_pro@jmu.edu  \n",
       "5   new_pro@jmu.edu  "
      ]
     },
     "execution_count": 40,
     "metadata": {},
     "output_type": "execute_result"
    }
   ],
   "source": [
    "df=pandas.read_sql_query(\"select * from gp16.course\",conn)\n",
    "\n",
    "df[:]"
   ]
  },
  {
   "cell_type": "code",
   "execution_count": 41,
   "id": "a8a5e522",
   "metadata": {},
   "outputs": [
    {
     "name": "stdout",
     "output_type": "stream",
     "text": [
      " delete from gp16.professor\n",
      "                    where p_email = 'new_p@jmu.edu'\n",
      "                  \n"
     ]
    }
   ],
   "source": [
    "sql_statement8 = \"\"\" delete from gp16.professor\n",
    "                    where p_email = 'new_p@jmu.edu'\n",
    "                  \"\"\"\n",
    "print (sql_statement8)"
   ]
  },
  {
   "cell_type": "code",
   "execution_count": 42,
   "id": "70736ec1",
   "metadata": {},
   "outputs": [],
   "source": [
    "cur.execute(sql_statement8)"
   ]
  },
  {
   "cell_type": "code",
   "execution_count": 43,
   "id": "a6f813e5",
   "metadata": {},
   "outputs": [],
   "source": [
    "conn.commit()"
   ]
  },
  {
   "cell_type": "code",
   "execution_count": 44,
   "id": "89737177",
   "metadata": {},
   "outputs": [
    {
     "data": {
      "text/html": [
       "<div>\n",
       "<style scoped>\n",
       "    .dataframe tbody tr th:only-of-type {\n",
       "        vertical-align: middle;\n",
       "    }\n",
       "\n",
       "    .dataframe tbody tr th {\n",
       "        vertical-align: top;\n",
       "    }\n",
       "\n",
       "    .dataframe thead th {\n",
       "        text-align: right;\n",
       "    }\n",
       "</style>\n",
       "<table border=\"1\" class=\"dataframe\">\n",
       "  <thead>\n",
       "    <tr style=\"text-align: right;\">\n",
       "      <th></th>\n",
       "      <th>p_email</th>\n",
       "      <th>p_name</th>\n",
       "      <th>p_office</th>\n",
       "    </tr>\n",
       "  </thead>\n",
       "  <tbody>\n",
       "    <tr>\n",
       "      <th>0</th>\n",
       "      <td>hendrinx@jmu.edu</td>\n",
       "      <td>Noel Hendrickson</td>\n",
       "      <td>ISAT 317</td>\n",
       "    </tr>\n",
       "    <tr>\n",
       "      <th>1</th>\n",
       "      <td>danzelox@jmu.edu</td>\n",
       "      <td>Orlandrew Danzell</td>\n",
       "      <td>ISAT 107</td>\n",
       "    </tr>\n",
       "    <tr>\n",
       "      <th>2</th>\n",
       "      <td>marrinsp@jmu.edu</td>\n",
       "      <td>Stephen Marrin</td>\n",
       "      <td>ENGEO2104</td>\n",
       "    </tr>\n",
       "    <tr>\n",
       "      <th>3</th>\n",
       "      <td>new_pro@jmu.edu</td>\n",
       "      <td>new_pro</td>\n",
       "      <td>new_off</td>\n",
       "    </tr>\n",
       "  </tbody>\n",
       "</table>\n",
       "</div>"
      ],
      "text/plain": [
       "            p_email             p_name   p_office\n",
       "0  hendrinx@jmu.edu   Noel Hendrickson   ISAT 317\n",
       "1  danzelox@jmu.edu  Orlandrew Danzell   ISAT 107\n",
       "2  marrinsp@jmu.edu     Stephen Marrin  ENGEO2104\n",
       "3   new_pro@jmu.edu            new_pro    new_off"
      ]
     },
     "execution_count": 44,
     "metadata": {},
     "output_type": "execute_result"
    }
   ],
   "source": [
    "df=pandas.read_sql_query(\"select * from gp16.professor\",conn)\n",
    "\n",
    "df[:]"
   ]
  },
  {
   "cell_type": "markdown",
   "id": "5d3b1b56",
   "metadata": {},
   "source": [
    "# Close cursor and connection"
   ]
  },
  {
   "cell_type": "code",
   "execution_count": 45,
   "id": "9d22f548",
   "metadata": {},
   "outputs": [],
   "source": [
    "cur.close()"
   ]
  },
  {
   "cell_type": "code",
   "execution_count": 46,
   "id": "4dd38290",
   "metadata": {},
   "outputs": [],
   "source": [
    "conn.close()"
   ]
  },
  {
   "cell_type": "code",
   "execution_count": null,
   "id": "d5e33686",
   "metadata": {},
   "outputs": [],
   "source": []
  }
 ],
 "metadata": {
  "kernelspec": {
   "display_name": "conda_python3",
   "language": "python",
   "name": "conda_python3"
  },
  "language_info": {
   "codemirror_mode": {
    "name": "ipython",
    "version": 3
   },
   "file_extension": ".py",
   "mimetype": "text/x-python",
   "name": "python",
   "nbconvert_exporter": "python",
   "pygments_lexer": "ipython3",
   "version": "3.6.13"
  }
 },
 "nbformat": 4,
 "nbformat_minor": 5
}
