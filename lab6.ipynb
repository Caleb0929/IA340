{
 "cells": [
  {
   "cell_type": "markdown",
   "id": "0160bee3",
   "metadata": {},
   "source": [
    "## import libraries "
   ]
  },
  {
   "cell_type": "code",
   "execution_count": 1,
   "id": "c5880d0b",
   "metadata": {},
   "outputs": [
    {
     "name": "stderr",
     "output_type": "stream",
     "text": [
      "/home/ec2-user/anaconda3/envs/python3/lib/python3.6/site-packages/psycopg2/__init__.py:144: UserWarning: The psycopg2 wheel package will be renamed from release 2.8; in order to keep installing from binary please use \"pip install psycopg2-binary\" instead. For details see: <http://initd.org/psycopg/docs/install.html#binary-install-from-pypi>.\n",
      "  \"\"\")\n"
     ]
    }
   ],
   "source": [
    "import pandas\n",
    "import configparser\n",
    "import psycopg2"
   ]
  },
  {
   "cell_type": "code",
   "execution_count": 2,
   "id": "3f53d8b2",
   "metadata": {},
   "outputs": [],
   "source": [
    "config = configparser.ConfigParser()\n",
    "config.read('config.ini')\n",
    "\n",
    "host = config['myaws']['host']\n",
    "db = config['myaws']['db']\n",
    "user = config['myaws']['user']\n",
    "pwd = config['myaws']['pwd']"
   ]
  },
  {
   "cell_type": "code",
   "execution_count": 3,
   "id": "106c8113",
   "metadata": {},
   "outputs": [],
   "source": [
    "conn = psycopg2.connect(host = host,\n",
    "                       user = user,\n",
    "                        password = pwd,\n",
    "                        dbname = db\n",
    "                       )\n",
    "cur = conn.cursor()"
   ]
  },
  {
   "cell_type": "markdown",
   "id": "5c655080",
   "metadata": {},
   "source": [
    "## create the house table"
   ]
  },
  {
   "cell_type": "markdown",
   "id": "cc9267bc",
   "metadata": {},
   "source": [
    "make sure change the schema name to your gp number"
   ]
  },
  {
   "cell_type": "code",
   "execution_count": 4,
   "id": "bfa869d5",
   "metadata": {},
   "outputs": [],
   "source": [
    "\n",
    "\n",
    "# replace the schema and table name to your schema and table name\n",
    "table_sql = \"\"\"\n",
    "            CREATE TABLE IF NOT EXISTS gp16.house\n",
    "            (\n",
    "\n",
    "                price integer,\n",
    "                bed integer,\n",
    "                bath integer,\n",
    "                area integer,\n",
    "                address VARCHAR(200),\n",
    "                PRIMARY KEY(address)\n",
    "            );\n",
    "\n",
    "            \"\"\"\n",
    "\n"
   ]
  },
  {
   "cell_type": "markdown",
   "id": "986216cd",
   "metadata": {},
   "source": [
    "use the bellow cell only if you want to delete the table"
   ]
  },
  {
   "cell_type": "code",
   "execution_count": 117,
   "id": "cf33ed3c",
   "metadata": {},
   "outputs": [],
   "source": [
    "#conn.rollback()\n",
    "#table_sql=\"drop table if exists demo.house\""
   ]
  },
  {
   "cell_type": "code",
   "execution_count": 5,
   "id": "cb8a3ddf",
   "metadata": {},
   "outputs": [],
   "source": [
    "\n",
    "cur.execute(table_sql)\n",
    "conn.commit()"
   ]
  },
  {
   "cell_type": "markdown",
   "id": "c496c911",
   "metadata": {},
   "source": [
    "## define the search region"
   ]
  },
  {
   "cell_type": "code",
   "execution_count": 17,
   "id": "7f6f173a",
   "metadata": {},
   "outputs": [],
   "source": [
    "url = 'https://www.trulia.com/VA/Ruther_Glen/22546/'"
   ]
  },
  {
   "cell_type": "code",
   "execution_count": 18,
   "id": "1512aff1",
   "metadata": {},
   "outputs": [],
   "source": [
    "\n",
    "\n",
    "import urllib.request\n",
    "response = urllib.request.urlopen(url)\n",
    "html_data= response.read()\n",
    "#print(html_data.decode('utf-8'))\n",
    "\n"
   ]
  },
  {
   "cell_type": "code",
   "execution_count": 19,
   "id": "14e05bc0",
   "metadata": {
    "scrolled": true
   },
   "outputs": [],
   "source": [
    "\n",
    "\n",
    "from bs4 import BeautifulSoup\n",
    "soup = BeautifulSoup(html_data,'html.parser')\n",
    "#print (soup)\n",
    "\n"
   ]
  },
  {
   "cell_type": "markdown",
   "id": "56a11006",
   "metadata": {},
   "source": [
    "## insert the records into database"
   ]
  },
  {
   "cell_type": "code",
   "execution_count": 20,
   "id": "e9e9ad43",
   "metadata": {},
   "outputs": [],
   "source": [
    "\n",
    "for li_class in soup.find_all('li', class_ = 'Grid__CellBox-sc-144isrp-0 SearchResultsList__WideCell-b7y9ki-2 jiZmPM'):\n",
    "    try:\n",
    "        for price_div in li_class.find_all('div',{'data-testid':'property-price'}):\n",
    "            price =int(price_div.text.replace('$','').replace(\",\",\"\"))\n",
    "        for bed_div in li_class.find_all('div', {'data-testid':'property-beds'}):\n",
    "            bed= int(bed_div.text.replace('bd','').replace(\",\",\"\"))\n",
    "        for bath_div in li_class.find_all('div',{'data-testid':'property-baths'}):\n",
    "            bath =int(bath_div.text.replace('ba','').replace(\",\",\"\"))\n",
    "        for area_div in li_class.find_all('div',{'data-testid':'property-floorSpace'}):\n",
    "            area=int(area_div.text.split('sqft')[0].replace(\",\",\"\"))\n",
    "        for address_div in li_class.find_all('div',{'data-testid':'property-address'}):\n",
    "            address =address_div.text\n",
    "\n",
    "        try:\n",
    "            sql_insert = \"\"\"\n",
    "                        insert into gp16.house(price,bed,bath,area,address)\n",
    "                        values('{}','{}','{}','{}','{}')            \n",
    "                        \"\"\".format(price,bed,bath,area,address)\n",
    "\n",
    "            cur.execute(sql_insert)\n",
    "            conn.commit()\n",
    "        except:\n",
    "            conn.rollback()\n",
    "    except:\n",
    "        pass\n",
    "        "
   ]
  },
  {
   "cell_type": "markdown",
   "id": "f2acce97",
   "metadata": {},
   "source": [
    "## Query the Table"
   ]
  },
  {
   "cell_type": "code",
   "execution_count": 25,
   "id": "89d9463e",
   "metadata": {
    "scrolled": true
   },
   "outputs": [
    {
     "data": {
      "text/html": [
       "<div>\n",
       "<style scoped>\n",
       "    .dataframe tbody tr th:only-of-type {\n",
       "        vertical-align: middle;\n",
       "    }\n",
       "\n",
       "    .dataframe tbody tr th {\n",
       "        vertical-align: top;\n",
       "    }\n",
       "\n",
       "    .dataframe thead th {\n",
       "        text-align: right;\n",
       "    }\n",
       "</style>\n",
       "<table border=\"1\" class=\"dataframe\">\n",
       "  <thead>\n",
       "    <tr style=\"text-align: right;\">\n",
       "      <th></th>\n",
       "      <th>price</th>\n",
       "      <th>bed</th>\n",
       "      <th>bath</th>\n",
       "      <th>area</th>\n",
       "      <th>address</th>\n",
       "    </tr>\n",
       "  </thead>\n",
       "  <tbody>\n",
       "    <tr>\n",
       "      <th>0</th>\n",
       "      <td>429000</td>\n",
       "      <td>4</td>\n",
       "      <td>3</td>\n",
       "      <td>2392</td>\n",
       "      <td>1038 James Pl, Harrisonburg, VA 22801</td>\n",
       "    </tr>\n",
       "    <tr>\n",
       "      <th>1</th>\n",
       "      <td>334900</td>\n",
       "      <td>4</td>\n",
       "      <td>3</td>\n",
       "      <td>1584</td>\n",
       "      <td>135 Port Republic Rd, Harrisonburg, VA 22801</td>\n",
       "    </tr>\n",
       "    <tr>\n",
       "      <th>2</th>\n",
       "      <td>199900</td>\n",
       "      <td>4</td>\n",
       "      <td>1</td>\n",
       "      <td>1285</td>\n",
       "      <td>786 Foley Rd, Harrisonburg, VA 22801</td>\n",
       "    </tr>\n",
       "    <tr>\n",
       "      <th>3</th>\n",
       "      <td>329080</td>\n",
       "      <td>3</td>\n",
       "      <td>2</td>\n",
       "      <td>1296</td>\n",
       "      <td>2095 Tailor Dr, Harrisonburg, VA 22801</td>\n",
       "    </tr>\n",
       "    <tr>\n",
       "      <th>4</th>\n",
       "      <td>372980</td>\n",
       "      <td>3</td>\n",
       "      <td>2</td>\n",
       "      <td>1366</td>\n",
       "      <td>2070 Tailor Dr, Harrisonburg, VA 22801</td>\n",
       "    </tr>\n",
       "    <tr>\n",
       "      <th>...</th>\n",
       "      <td>...</td>\n",
       "      <td>...</td>\n",
       "      <td>...</td>\n",
       "      <td>...</td>\n",
       "      <td>...</td>\n",
       "    </tr>\n",
       "    <tr>\n",
       "      <th>73</th>\n",
       "      <td>125000</td>\n",
       "      <td>3</td>\n",
       "      <td>3</td>\n",
       "      <td>1789</td>\n",
       "      <td>Jericho Rd, Ruther Glen, VA 22546</td>\n",
       "    </tr>\n",
       "    <tr>\n",
       "      <th>74</th>\n",
       "      <td>414990</td>\n",
       "      <td>4</td>\n",
       "      <td>3</td>\n",
       "      <td>2564</td>\n",
       "      <td>6621 Expedition Pl, Ruther Glen, VA 22546</td>\n",
       "    </tr>\n",
       "    <tr>\n",
       "      <th>75</th>\n",
       "      <td>20000</td>\n",
       "      <td>4</td>\n",
       "      <td>3</td>\n",
       "      <td>2564</td>\n",
       "      <td>133 John Paul Jones Dr, Ruther Glen, VA 22546</td>\n",
       "    </tr>\n",
       "    <tr>\n",
       "      <th>76</th>\n",
       "      <td>200000</td>\n",
       "      <td>4</td>\n",
       "      <td>3</td>\n",
       "      <td>2564</td>\n",
       "      <td>Oxford Rd, Ruther Glen, VA 22546</td>\n",
       "    </tr>\n",
       "    <tr>\n",
       "      <th>77</th>\n",
       "      <td>375000</td>\n",
       "      <td>4</td>\n",
       "      <td>3</td>\n",
       "      <td>2564</td>\n",
       "      <td>Cool Water Dr, Ruther Glen, VA 22546</td>\n",
       "    </tr>\n",
       "  </tbody>\n",
       "</table>\n",
       "<p>78 rows × 5 columns</p>\n",
       "</div>"
      ],
      "text/plain": [
       "     price  bed  bath  area                                        address\n",
       "0   429000    4     3  2392          1038 James Pl, Harrisonburg, VA 22801\n",
       "1   334900    4     3  1584   135 Port Republic Rd, Harrisonburg, VA 22801\n",
       "2   199900    4     1  1285           786 Foley Rd, Harrisonburg, VA 22801\n",
       "3   329080    3     2  1296         2095 Tailor Dr, Harrisonburg, VA 22801\n",
       "4   372980    3     2  1366         2070 Tailor Dr, Harrisonburg, VA 22801\n",
       "..     ...  ...   ...   ...                                            ...\n",
       "73  125000    3     3  1789              Jericho Rd, Ruther Glen, VA 22546\n",
       "74  414990    4     3  2564      6621 Expedition Pl, Ruther Glen, VA 22546\n",
       "75   20000    4     3  2564  133 John Paul Jones Dr, Ruther Glen, VA 22546\n",
       "76  200000    4     3  2564               Oxford Rd, Ruther Glen, VA 22546\n",
       "77  375000    4     3  2564           Cool Water Dr, Ruther Glen, VA 22546\n",
       "\n",
       "[78 rows x 5 columns]"
      ]
     },
     "execution_count": 25,
     "metadata": {},
     "output_type": "execute_result"
    }
   ],
   "source": [
    "df = pandas.read_sql_query('select * from gp16.house ', conn)\n",
    "df[:]"
   ]
  },
  {
   "cell_type": "markdown",
   "id": "15487829",
   "metadata": {},
   "source": [
    "## basic stat"
   ]
  },
  {
   "cell_type": "code",
   "execution_count": 26,
   "id": "d2e0ac65",
   "metadata": {},
   "outputs": [
    {
     "data": {
      "text/html": [
       "<div>\n",
       "<style scoped>\n",
       "    .dataframe tbody tr th:only-of-type {\n",
       "        vertical-align: middle;\n",
       "    }\n",
       "\n",
       "    .dataframe tbody tr th {\n",
       "        vertical-align: top;\n",
       "    }\n",
       "\n",
       "    .dataframe thead th {\n",
       "        text-align: right;\n",
       "    }\n",
       "</style>\n",
       "<table border=\"1\" class=\"dataframe\">\n",
       "  <thead>\n",
       "    <tr style=\"text-align: right;\">\n",
       "      <th></th>\n",
       "      <th>price</th>\n",
       "      <th>bed</th>\n",
       "      <th>bath</th>\n",
       "      <th>area</th>\n",
       "    </tr>\n",
       "  </thead>\n",
       "  <tbody>\n",
       "    <tr>\n",
       "      <th>count</th>\n",
       "      <td>7.800000e+01</td>\n",
       "      <td>78.000000</td>\n",
       "      <td>78.000000</td>\n",
       "      <td>78.000000</td>\n",
       "    </tr>\n",
       "    <tr>\n",
       "      <th>mean</th>\n",
       "      <td>3.475410e+05</td>\n",
       "      <td>3.358974</td>\n",
       "      <td>2.769231</td>\n",
       "      <td>2063.205128</td>\n",
       "    </tr>\n",
       "    <tr>\n",
       "      <th>std</th>\n",
       "      <td>2.211877e+05</td>\n",
       "      <td>0.993150</td>\n",
       "      <td>0.992479</td>\n",
       "      <td>1081.752839</td>\n",
       "    </tr>\n",
       "    <tr>\n",
       "      <th>min</th>\n",
       "      <td>1.500000e+04</td>\n",
       "      <td>1.000000</td>\n",
       "      <td>1.000000</td>\n",
       "      <td>596.000000</td>\n",
       "    </tr>\n",
       "    <tr>\n",
       "      <th>25%</th>\n",
       "      <td>2.138750e+05</td>\n",
       "      <td>3.000000</td>\n",
       "      <td>2.000000</td>\n",
       "      <td>1373.500000</td>\n",
       "    </tr>\n",
       "    <tr>\n",
       "      <th>50%</th>\n",
       "      <td>3.369500e+05</td>\n",
       "      <td>3.000000</td>\n",
       "      <td>3.000000</td>\n",
       "      <td>1789.000000</td>\n",
       "    </tr>\n",
       "    <tr>\n",
       "      <th>75%</th>\n",
       "      <td>4.236625e+05</td>\n",
       "      <td>4.000000</td>\n",
       "      <td>3.000000</td>\n",
       "      <td>2564.000000</td>\n",
       "    </tr>\n",
       "    <tr>\n",
       "      <th>max</th>\n",
       "      <td>1.250000e+06</td>\n",
       "      <td>7.000000</td>\n",
       "      <td>7.000000</td>\n",
       "      <td>7440.000000</td>\n",
       "    </tr>\n",
       "  </tbody>\n",
       "</table>\n",
       "</div>"
      ],
      "text/plain": [
       "              price        bed       bath         area\n",
       "count  7.800000e+01  78.000000  78.000000    78.000000\n",
       "mean   3.475410e+05   3.358974   2.769231  2063.205128\n",
       "std    2.211877e+05   0.993150   0.992479  1081.752839\n",
       "min    1.500000e+04   1.000000   1.000000   596.000000\n",
       "25%    2.138750e+05   3.000000   2.000000  1373.500000\n",
       "50%    3.369500e+05   3.000000   3.000000  1789.000000\n",
       "75%    4.236625e+05   4.000000   3.000000  2564.000000\n",
       "max    1.250000e+06   7.000000   7.000000  7440.000000"
      ]
     },
     "execution_count": 26,
     "metadata": {},
     "output_type": "execute_result"
    }
   ],
   "source": [
    "df.describe()"
   ]
  },
  {
   "cell_type": "markdown",
   "id": "1f826207",
   "metadata": {},
   "source": [
    "## price distribution"
   ]
  },
  {
   "cell_type": "code",
   "execution_count": 27,
   "id": "f36c36b6",
   "metadata": {},
   "outputs": [
    {
     "data": {
      "text/plain": [
       "<AxesSubplot:>"
      ]
     },
     "execution_count": 27,
     "metadata": {},
     "output_type": "execute_result"
    },
    {
     "data": {
      "image/png": "[encoded data removed]",
      "text/plain": [
       "<Figure size 432x288 with 1 Axes>"
      ]
     },
     "metadata": {
      "needs_background": "light"
     },
     "output_type": "display_data"
    }
   ],
   "source": [
    "df['price'].hist()"
   ]
  },
  {
   "cell_type": "markdown",
   "id": "9187dda8",
   "metadata": {},
   "source": [
    "## bed vs bath"
   ]
  },
  {
   "cell_type": "code",
   "execution_count": 28,
   "id": "c2bb83fd",
   "metadata": {},
   "outputs": [
    {
     "data": {
      "text/plain": [
       "<AxesSubplot:xlabel='bed', ylabel='bath'>"
      ]
     },
     "execution_count": 28,
     "metadata": {},
     "output_type": "execute_result"
    },
    {
     "data": {
      "image/png": "[encoded data removed]",
      "text/plain": [
       "<Figure size 432x288 with 1 Axes>"
      ]
     },
     "metadata": {
      "needs_background": "light"
     },
     "output_type": "display_data"
    }
   ],
   "source": [
    "df.plot.scatter(x='bed',y='bath')"
   ]
  },
  {
   "cell_type": "code",
   "execution_count": null,
   "id": "3a70756d",
   "metadata": {},
   "outputs": [],
   "source": []
  }
 ],
 "metadata": {
  "kernelspec": {
   "display_name": "conda_python3",
   "language": "python",
   "name": "conda_python3"
  },
  "language_info": {
   "codemirror_mode": {
    "name": "ipython",
    "version": 3
   },
   "file_extension": ".py",
   "mimetype": "text/x-python",
   "name": "python",
   "nbconvert_exporter": "python",
   "pygments_lexer": "ipython3",
   "version": "3.6.13"
  }
 },
 "nbformat": 4,
 "nbformat_minor": 5
}
